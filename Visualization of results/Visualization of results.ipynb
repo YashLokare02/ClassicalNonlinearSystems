{
 "cells": [
  {
   "cell_type": "markdown",
   "id": "a950254e-a410-4780-add2-2bd657235250",
   "metadata": {},
   "source": [
    "## For plotting the PDFs as a function of the number of optimization iterations \n",
    "\n",
    "### Amend as necessary"
   ]
  },
  {
   "cell_type": "code",
   "execution_count": null,
   "id": "c1022cc7-f089-47ea-ab8a-ad62e2333499",
   "metadata": {},
   "outputs": [],
   "source": [
    "## Example case (for a = 1, b = 2, \\ell = 1/2; N = 4)\n",
    "# Plotting the PDFs for other cases follows suit\n",
    "\n",
    "## Plotting\n",
    "fig, ax = plt.subplots(dpi = 600)\n",
    "\n",
    "# Plot\n",
    "ax.plot(x_diagonalization, y_diagonalization, 'k', linewidth = 2, label = 'Classical numerical diagonalization')\n",
    "\n",
    "# Go for the bad solution\n",
    "# Identify transitions between positive and negative y values\n",
    "positive_mask = y_initial >= 0\n",
    "negative_mask = y_initial < 0\n",
    "transitions = np.where(np.diff(positive_mask.astype(int)) != 0)[0]\n",
    "\n",
    "# Include start and end indices\n",
    "segments = np.concatenate(([0], transitions + 1, [len(y_initial)]))\n",
    "\n",
    "# Flags to ensure only one label per type of line\n",
    "solid_line_plotted = False\n",
    "dotted_line_plotted = False\n",
    "\n",
    "# Plot each segment separately\n",
    "for i in range(len(segments) - 1):\n",
    "    start, end = segments[i], segments[i + 1]\n",
    "    if positive_mask[start]:\n",
    "        if not solid_line_plotted:\n",
    "            plt.plot(x_initial[start:end], np.abs(y_initial[start:end]), linestyle='-', color='purple', \\\n",
    "                     linewidth = 2, label = \"Initial ansatz\")\n",
    "            solid_line_plotted = True\n",
    "        else:\n",
    "            plt.plot(x_initial[start:end], np.abs(y_initial[start:end]), linestyle='-', color='purple', linewidth = 2)\n",
    "    else:\n",
    "        if not dotted_line_plotted:\n",
    "            plt.plot(x_initial[start:end], np.abs(y_initial[start:end]), linestyle=':', color='purple', linewidth = 2)\n",
    "            dotted_line_plotted = True\n",
    "        else:\n",
    "            plt.plot(x_initial[start:end], np.abs(y_initial[start:end]), linestyle=':', color='purple', linewidth = 2)\n",
    "            \n",
    "# Continue plotting\n",
    "# ax.plot(x_vqe_noiseless_6000, y_vqe_noiseless_6000, 'b', linewidth = 2, alpha = 0.7, label = 'Ideal simulator (poor initial ansatz [6000 iterations])')\n",
    "# ax.plot(x_vqe_noiseless_12000, y_vqe_noiseless_12000, 'y', linewidth = 2, alpha = 0.5, label = 'Ideal simulator (poor initial ansatz [12000 iterations])')\n",
    "ax.plot(x_vqe_noisy_150, y_vqe_noisy_150, 'b', linewidth = 2, label = 'Manila machine (150 iterations)')\n",
    "ax.plot(x_vqe_noisy_300, y_vqe_noisy_300, color = 'r', linewidth = 2, label = 'Manila machine (300 iterations)')\n",
    "ax.plot(x_vqe_noisy_700, y_vqe_noisy_700, color = 'saddlebrown', linewidth = 2, label = 'Manila machine (700 iterations)')\n",
    "\n",
    "# Set labels and title\n",
    "ax.set_xlabel('$x$', fontsize = 17)\n",
    "ax.set_ylabel('$P(x)$', fontsize = 17)\n",
    "ax.set_title(r'$a = 1, b = 2, \\ell = 1/2 ~(7000 ~\\mathrm{shots})$; $N = 2$', fontsize = 13)\n",
    "\n",
    "ax.grid(True)\n",
    "\n",
    "ax.set_yscale('log')\n",
    "\n",
    "ax.set_ylim(2 * 1e-3, 1)\n",
    "\n",
    "# Show a legend\n",
    "legend = ax.legend(loc = 'upper left', bbox_to_anchor=(-0.05, 1.26), ncol=2, prop = {'size': 9})"
   ]
  },
  {
   "cell_type": "markdown",
   "id": "88c83d82-b734-4268-84ba-74aaff86ba67",
   "metadata": {},
   "source": [
    "## Plotting relative errors and <H> via the quantum-computed zeromodes for the noiseless and noisy cases"
   ]
  },
  {
   "cell_type": "code",
   "execution_count": null,
   "id": "e95eedb3-320b-428b-946e-449297c939de",
   "metadata": {},
   "outputs": [],
   "source": [
    "# Note: Use the quantum-computed zeromodes to compute <x^2>, relative errors in <x^2>, and <H>\n",
    "\n",
    "# Plot \n",
    "fig, ax1 = plt.subplots(dpi = 600)\n",
    "\n",
    "ax1.set_xlabel('Iterations', fontsize = 17)\n",
    "ax1.set_ylabel('Relative error', fontsize = 17)\n",
    "ax1.plot(iterations, errors_descent, color = 'blue', marker = 's', linestyle = '-', markersize = 5, linewidth = 2.5, label='Relative error (simulation)')\n",
    "ax1.plot(iterations, errors_hardware, color = 'red', marker = 'o', linestyle = '-', markersize = 5, linewidth = 2.5, label='Relative error (Manila machine)')\n",
    "# ax1.tick_params(axis='y', labelcolor='blue')\n",
    "ax1.set_yscale('log')\n",
    "ax1.grid(True)\n",
    "\n",
    "ax2 = ax1.twinx()  # instantiate a second axes that shares the same x-axis\n",
    "ax2.set_ylabel(r'$\\langle H \\rangle$', fontsize = 17)  # we already handled the x-label with ax1\n",
    "ax2.plot(iterations, expectations, color = 'blue', marker = 's', linestyle = '--', markersize = 5, label=r'$\\langle H \\rangle$ (simulation)')\n",
    "ax2.plot(iterations, expectation_hardware, color = 'red', marker = 'o', linestyle = '--', markersize = 5, label=r'$\\langle H \\rangle$ (Manila machine)')\n",
    "# ax2.tick_params(axis='y', labelcolor='red')\n",
    "# ax2.set_yscale('log')\n",
    "ax2.grid(True)\n",
    "fig.suptitle(r'$a = 1, b = 2, \\ell = 1/2; N = 4$', fontsize = 15)\n",
    "\n",
    "# Add a legend\n",
    "# Combine legends from both axes\n",
    "lines_1, labels_1 = ax1.get_legend_handles_labels()\n",
    "lines_2, labels_2 = ax2.get_legend_handles_labels()\n",
    "ax1.legend(lines_1 + lines_2, labels_1 + labels_2, loc='lower right', bbox_to_anchor=(1.005, 1), ncol = 2)\n",
    "\n",
    "# Save the plot\n",
    "plt.tight_layout(pad=1.0)\n",
    "plt.savefig(\"Positive_a_N_4_relative_error_expectation_IMFIL_hardware_simulation.pdf\")"
   ]
  },
  {
   "cell_type": "markdown",
   "id": "034591dc-1bfe-4120-943e-cc69d699d95f",
   "metadata": {},
   "source": [
    "## Plotting the VQE convergence plot"
   ]
  },
  {
   "cell_type": "code",
   "execution_count": null,
   "id": "f97f4329-3d6a-4b65-817e-f6c45a13102e",
   "metadata": {},
   "outputs": [],
   "source": [
    "# Here, 'sol' corresponds to the energy eigenvalue obtained using NumpyMinimumEigensolver\n",
    "\n",
    "plt.rcParams[\"font.size\"] = 14\n",
    "plt.figure(dpi = 600)\n",
    "plt.figure(figsize=(12, 6))\n",
    "plt.plot(log.values, label=\"VQE\")\n",
    "plt.axhline(y=sol.eigenvalue, color=\"tab:red\", ls=\"--\", label=\"Target\")\n",
    "plt.legend(loc=\"best\")\n",
    "plt.xlabel(\"Iteration\")\n",
    "plt.ylabel(r'$\\langle H \\rangle$')\n",
    "plt.title(\"VQE convergence\")\n",
    "plt.show()"
   ]
  }
 ],
 "metadata": {
  "kernelspec": {
   "display_name": "Python 3 (ipykernel)",
   "language": "python",
   "name": "python3"
  },
  "language_info": {
   "codemirror_mode": {
    "name": "ipython",
    "version": 3
   },
   "file_extension": ".py",
   "mimetype": "text/x-python",
   "name": "python",
   "nbconvert_exporter": "python",
   "pygments_lexer": "ipython3",
   "version": "3.12.4"
  }
 },
 "nbformat": 4,
 "nbformat_minor": 5
}
