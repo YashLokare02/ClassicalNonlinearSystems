{
 "cells": [
  {
   "cell_type": "markdown",
   "id": "5dbe3ddd",
   "metadata": {},
   "source": [
    "## Importing relevant libraries"
   ]
  },
  {
   "cell_type": "code",
   "execution_count": 1,
   "id": "15f23320",
   "metadata": {},
   "outputs": [],
   "source": [
    "import numpy as np\n",
    "from scipy.stats import pearsonr"
   ]
  },
  {
   "cell_type": "markdown",
   "id": "be8a80e1",
   "metadata": {},
   "source": [
    "## Function to compute the Pearson correlation coefficient"
   ]
  },
  {
   "cell_type": "code",
   "execution_count": 14,
   "id": "426f181d",
   "metadata": {},
   "outputs": [],
   "source": [
    "def get_coefficient(zeromode_classical, zeromode_quantum):\n",
    "    # Function to compute the Pearson correlation coefficient between the classical and quantum zeromodes\n",
    "    \n",
    "    # Generate arrays\n",
    "    zeromode_classical = np.array(zeromode_classical).flatten()\n",
    "    zeromode_quantum = np.array(zeromode_quantum).flatten() \n",
    "    \n",
    "    # Compute the Pearson correlation coefficient and p-value\n",
    "    coefficient, p_value = pearsonr(zeromode_classical, zeromode_quantum)\n",
    "    \n",
    "    return coefficient, p_value"
   ]
  },
  {
   "cell_type": "markdown",
   "id": "cea39f2a",
   "metadata": {},
   "source": [
    "## Zeromodes obtained via exact diagonalization"
   ]
  },
  {
   "cell_type": "code",
   "execution_count": 3,
   "id": "5ccfb023",
   "metadata": {},
   "outputs": [],
   "source": [
    "## Note: For the classical and quantum zeromodes used in the analysis, look up 'Simulation results' on the repository\n",
    "\n",
    "zeromode_case_1 = [[ 9.94059138e-01], [-1.08702764e-01], [ 1.65627715e-03], [ 4.87619708e-03], [-1.88428944e-03], [ 2.26921154e-04], [ 6.83588404e-05], [-1.07365649e-04]]\n",
    "\n",
    "zeromode_case_2 = [[ 9.83587048e-01], [-1.79040946e-01], [ 1.51767467e-02], [ 1.15627686e-02], [-1.06815609e-02], [ 4.45458545e-03], [-1.68091897e-03], [-2.49142794e-04]]\n",
    "\n",
    "zeromode_negative_a = [[ 0.47447757], [ 0.60870008], [ 0.55925952], [ 0.29602839], [ 0.03873082], [-0.04625392], [-0.01489072], [ 0.00948653]]"
   ]
  },
  {
   "cell_type": "markdown",
   "id": "45801697",
   "metadata": {},
   "source": [
    "## Simulations with VQSVD\n",
    "\n",
    "### For case 1 (a > 0)"
   ]
  },
  {
   "cell_type": "code",
   "execution_count": 15,
   "id": "1f1690f3",
   "metadata": {},
   "outputs": [
    {
     "name": "stdout",
     "output_type": "stream",
     "text": [
      "The Pearson correlation coefficient is:\n",
      "0.999999995491136\n",
      "\n",
      "The p-value is:\n",
      "2.291613649245909e-25\n",
      "\n"
     ]
    }
   ],
   "source": [
    "zeromode_quantum = [[ 5.00228882e-01], [-5.46478666e-02], [ 8.44497816e-04], [ 2.45810975e-03], [-9.35919816e-04], [ 1.07553344e-04], [ 3.85482344e-05], [-4.50786101e-05]]\n",
    "\n",
    "# Compute the Pearson correlation coefficient and p-value\n",
    "coefficient, p_value = get_coefficient(zeromode_case_1, zeromode_quantum)\n",
    "\n",
    "## Print the results\n",
    "# Print the Pearson correlation coefficient\n",
    "print('The Pearson correlation coefficient is:')\n",
    "print(coefficient)\n",
    "print()\n",
    "\n",
    "# Print the p-value\n",
    "print('The p-value is:')\n",
    "print(p_value)\n",
    "print()"
   ]
  },
  {
   "cell_type": "markdown",
   "id": "0c58d2a5",
   "metadata": {},
   "source": [
    "### For case 2 (a > 0)"
   ]
  },
  {
   "cell_type": "code",
   "execution_count": 16,
   "id": "1826d6fe",
   "metadata": {},
   "outputs": [
    {
     "name": "stdout",
     "output_type": "stream",
     "text": [
      "The Pearson correlation coefficient is:\n",
      "0.9999968892202229\n",
      "\n",
      "The p-value is:\n",
      "7.52569817187843e-17\n",
      "\n"
     ]
    }
   ],
   "source": [
    "zeromode_quantum = [[ 9.5726204e-01], [-1.7424642e-01], [ 1.4330332e-02], [ 1.1125402e-02], [-1.0885990e-02], [ 5.1563452e-03], [ 3.9581899e-04], [-8.2679017e-04]]\n",
    "\n",
    "# Compute the Pearson correlation coefficient and p-value\n",
    "coefficient, p_value = get_coefficient(zeromode_case_2, zeromode_quantum)\n",
    "\n",
    "## Print the results\n",
    "# Print the Pearson correlation coefficient\n",
    "print('The Pearson correlation coefficient is:')\n",
    "print(coefficient)\n",
    "print()\n",
    "\n",
    "# Print the p-value\n",
    "print('The p-value is:')\n",
    "print(p_value)\n",
    "print()"
   ]
  },
  {
   "cell_type": "markdown",
   "id": "20b3bd99",
   "metadata": {},
   "source": [
    "### For the a < 0 case"
   ]
  },
  {
   "cell_type": "code",
   "execution_count": 17,
   "id": "fb16bed3",
   "metadata": {},
   "outputs": [
    {
     "name": "stdout",
     "output_type": "stream",
     "text": [
      "The Pearson correlation coefficient is:\n",
      "0.9999682158976733\n",
      "\n",
      "The p-value is:\n",
      "8.02711540007883e-14\n",
      "\n"
     ]
    }
   ],
   "source": [
    "zeromode_quantum = [[ 0.44663134], [ 0.56923604], [ 0.52637273], [ 0.27406627], [ 0.03572845], [-0.04070639], [-0.01230786], [ 0.00883696]]\n",
    "\n",
    "# Compute the Pearson correlation coefficient and p-value\n",
    "coefficient, p_value = get_coefficient(zeromode_negative_a, zeromode_quantum)\n",
    "\n",
    "## Print the results\n",
    "# Print the Pearson correlation coefficient\n",
    "print('The Pearson correlation coefficient is:')\n",
    "print(coefficient)\n",
    "print()\n",
    "\n",
    "# Print the p-value\n",
    "print('The p-value is:')\n",
    "print(p_value)\n",
    "print()"
   ]
  },
  {
   "cell_type": "markdown",
   "id": "9220bf15",
   "metadata": {},
   "source": [
    "## Simulations with QPE + VQSVD\n",
    "\n",
    "### For case 1 ( a > 0)"
   ]
  },
  {
   "cell_type": "code",
   "execution_count": 18,
   "id": "4238cbef",
   "metadata": {},
   "outputs": [
    {
     "name": "stdout",
     "output_type": "stream",
     "text": [
      "The Pearson correlation coefficient is:\n",
      "0.999999990747085\n",
      "\n",
      "The p-value is:\n",
      "1.9805039918974447e-24\n",
      "\n"
     ]
    }
   ],
   "source": [
    "zeromode_quantum = [[ 7.3225093e-01], [-8.0051549e-02], [ 1.2381583e-03], [ 3.5961899e-03], [-1.3538114e-03], [ 9.2577975e-05], [ 8.3858751e-05], [-9.9683355e-05]]\n",
    "\n",
    "# Compute the Pearson correlation coefficient and p-value\n",
    "coefficient, p_value = get_coefficient(zeromode_case_1, zeromode_quantum)\n",
    "\n",
    "## Print the results\n",
    "# Print the Pearson correlation coefficient\n",
    "print('The Pearson correlation coefficient is:')\n",
    "print(coefficient)\n",
    "print()\n",
    "\n",
    "# Print the p-value\n",
    "print('The p-value is:')\n",
    "print(p_value)\n",
    "print()"
   ]
  },
  {
   "cell_type": "markdown",
   "id": "6deebde1",
   "metadata": {},
   "source": [
    "### For the a < 0 case"
   ]
  },
  {
   "cell_type": "code",
   "execution_count": 19,
   "id": "2152396d",
   "metadata": {},
   "outputs": [
    {
     "name": "stdout",
     "output_type": "stream",
     "text": [
      "The Pearson correlation coefficient is:\n",
      "0.9999913560146771\n",
      "\n",
      "The p-value is:\n",
      "1.6146531922116859e-15\n",
      "\n"
     ]
    }
   ],
   "source": [
    "zeromode_quantum = [[ 0.42640302], [ 0.54742444], [ 0.5004639 ], [ 0.26661828], [ 0.03518621], [-0.04299745], [-0.01499427], [ 0.00800069]]\n",
    "\n",
    "# Compute the Pearson correlation coefficient and p-value\n",
    "coefficient, p_value = get_coefficient(zeromode_negative_a, zeromode_quantum)\n",
    "\n",
    "## Print the results\n",
    "# Print the Pearson correlation coefficient\n",
    "print('The Pearson correlation coefficient is:')\n",
    "print(coefficient)\n",
    "print()\n",
    "\n",
    "# Print the p-value\n",
    "print('The p-value is:')\n",
    "print(p_value)\n",
    "print()"
   ]
  }
 ],
 "metadata": {
  "kernelspec": {
   "display_name": "Python 3 (ipykernel)",
   "language": "python",
   "name": "python3"
  },
  "language_info": {
   "codemirror_mode": {
    "name": "ipython",
    "version": 3
   },
   "file_extension": ".py",
   "mimetype": "text/x-python",
   "name": "python",
   "nbconvert_exporter": "python",
   "pygments_lexer": "ipython3",
   "version": "3.10.9"
  }
 },
 "nbformat": 4,
 "nbformat_minor": 5
}
